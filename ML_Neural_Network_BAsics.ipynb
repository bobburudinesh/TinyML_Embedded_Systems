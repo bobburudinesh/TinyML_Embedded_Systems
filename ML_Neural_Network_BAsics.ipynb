{
  "nbformat": 4,
  "nbformat_minor": 0,
  "metadata": {
    "colab": {
      "provenance": [],
      "authorship_tag": "ABX9TyPNbrcixixbiOyqsiUxVvq1",
      "include_colab_link": true
    },
    "kernelspec": {
      "name": "python3",
      "display_name": "Python 3"
    },
    "language_info": {
      "name": "python"
    }
  },
  "cells": [
    {
      "cell_type": "markdown",
      "metadata": {
        "id": "view-in-github",
        "colab_type": "text"
      },
      "source": [
        "<a href=\"https://colab.research.google.com/github/bobburudinesh/TinyML_Embedded_Systems/blob/Machine_Learning%2FLoss_Exploration/ML_Neural_Network_BAsics.ipynb\" target=\"_parent\"><img src=\"https://colab.research.google.com/assets/colab-badge.svg\" alt=\"Open In Colab\"/></a>"
      ]
    },
    {
      "cell_type": "code",
      "execution_count": 1,
      "metadata": {
        "id": "ZuJTwNZ7yc2N",
        "colab": {
          "base_uri": "https://localhost:8080/"
        },
        "outputId": "a9d73ece-4761-4370-f8c3-17518f2cae4f"
      },
      "outputs": [
        {
          "output_type": "stream",
          "name": "stdout",
          "text": [
            "Real Y is [-3, -1, 1, 3, 5, 7]\n",
            "My Y is   [-4, -1, 2, 5, 8, 11]\n",
            "My loss is: 5.5677643628300215\n"
          ]
        }
      ],
      "source": [
        "import math\n",
        "# Edit these parameters to try different loss measurements. Rerun this cell when\n",
        "# done. Your Y will be calculated as Y=wX+b, so if w=3, and b=-1, then Y=3x-1.\n",
        "\n",
        "w = 3\n",
        "b = -1\n",
        "\n",
        "x = [-1, 0, 1, 2, 3, 4]\n",
        "y = [-3, -1, 1, 3, 5, 7]\n",
        "myY = []\n",
        "\n",
        "\n",
        "for thisX in x:\n",
        "  thisY = (w*thisX)+b\n",
        "  myY.append(thisY)\n",
        "\n",
        "print(f\"Real Y is {str(y)}\")\n",
        "print(f\"My Y is   {str(myY)}\")\n",
        "\n",
        "# let's calculate the loss\n",
        "total_square_error = 0\n",
        "for i in range(0, len(y)):\n",
        "  square_error = (y[i] - myY[i]) ** 2\n",
        "  total_square_error += square_error\n",
        "\n",
        "print(f\"My loss is: {str(math.sqrt(total_square_error))}\")"
      ]
    },
    {
      "cell_type": "markdown",
      "source": [
        "LOSS Minimizing using Gradient Decent\n"
      ],
      "metadata": {
        "id": "G1YZcNJH2BIN"
      }
    },
    {
      "cell_type": "code",
      "source": [
        "import sys\n",
        "import numpy as np\n",
        "import matplotlib.pyplot as plt\n",
        "import tensorflow as tf\n",
        "\n",
        "\n",
        "# This script requires TensorFlow 2 and Python 3.\n",
        "if tf.__version__.split('.')[0] != '2':\n",
        "    raise Exception((f\"The script is developed and tested for tensorflow 2. \"\n",
        "                     f\"Current version: {tf.__version__}\"))\n",
        "\n",
        "if sys.version_info.major < 3:\n",
        "    raise Exception((f\"The script is developed and tested for Python 3. \"\n",
        "                     f\"Current version: {sys.version_info.major}\"))"
      ],
      "metadata": {
        "id": "t2GKH6aw2GEG"
      },
      "execution_count": 2,
      "outputs": []
    },
    {
      "cell_type": "code",
      "source": [
        "# Define our initial guess\n",
        "INITIAL_W = 10.0\n",
        "INITIAL_B = 10.0\n",
        "\n",
        "# Define our loss function\n",
        "def loss(predicted_y, target_y):\n",
        "  return tf.reduce_mean(tf.square(predicted_y - target_y))\n",
        "\n",
        "# Define our training procedure\n",
        "def train(model, inputs, outputs, learning_rate):\n",
        "  with tf.GradientTape() as t:\n",
        "    current_loss = loss(model(inputs), outputs)\n",
        "    # Here is where you differentiate the model values with respect to the loss function\n",
        "    dw, db = t.gradient(current_loss, [model.w, model.b])\n",
        "    # And here is where you update the model values based on the learning rate chosen\n",
        "    model.w.assign_sub(learning_rate * dw)\n",
        "    model.b.assign_sub(learning_rate * db)\n",
        "    return current_loss\n",
        "\n",
        "# Define our simple linear regression model\n",
        "class Model(object):\n",
        "  def __init__(self):\n",
        "    # Initialize the weights\n",
        "    self.w = tf.Variable(INITIAL_W)\n",
        "    self.b = tf.Variable(INITIAL_B)\n",
        "\n",
        "  def __call__(self, x):\n",
        "    return self.w * x + self.b"
      ],
      "metadata": {
        "id": "3jmIpGPi2l2N"
      },
      "execution_count": 3,
      "outputs": []
    },
    {
      "cell_type": "code",
      "source": [
        "# Define our input data and learning rate\n",
        "xs = [-1.0, 0.0, 1.0, 2.0, 3.0, 4.0]\n",
        "ys = [-3.0, -1.0, 1.0, 3.0, 5.0, 7.0]\n",
        "LEARNING_RATE=0.09\n",
        "\n",
        "# Instantiate our model\n",
        "model = Model()\n",
        "\n",
        "# Collect the history of w-values and b-values to plot later\n",
        "list_w, list_b = [], []\n",
        "epochs = range(100)\n",
        "losses = []\n",
        "for epoch in epochs:\n",
        "  list_w.append(model.w.numpy())\n",
        "  list_b.append(model.b.numpy())\n",
        "  current_loss = train(model, xs, ys, learning_rate=LEARNING_RATE)\n",
        "  losses.append(current_loss)\n",
        "  print(f\"Epoch {epoch:2d}: w={list_w[-1]:1.2f} b={list_b[-1]:1.2f}, \"\n",
        "        f\"loss={current_loss:2.5f}\")"
      ],
      "metadata": {
        "id": "wAvrI84V5oTG"
      },
      "execution_count": null,
      "outputs": []
    },
    {
      "cell_type": "code",
      "source": [
        "# Plot the w-values and b-values for each training Epoch against the true values\n",
        "TRUE_w = 2.0\n",
        "TRUE_b = -1.0\n",
        "plt.plot(epochs, list_w, 'r', epochs, list_b, 'b')\n",
        "plt.plot([TRUE_w] * len(epochs), 'r--', [TRUE_b] * len(epochs), 'b--')\n",
        "plt.legend(['w', 'b', 'True w', 'True b'])\n",
        "plt.show()"
      ],
      "metadata": {
        "id": "bHAvic5u5rOa"
      },
      "execution_count": null,
      "outputs": []
    },
    {
      "cell_type": "code",
      "source": [
        "# Now we are developing a perceptron to train the mode using TF and get the output."
      ],
      "metadata": {
        "id": "WVra1lST9f8L"
      },
      "execution_count": null,
      "outputs": []
    },
    {
      "cell_type": "code",
      "source": [
        "# define a neural network with one neuron\n",
        "# for more information on TF functions see: https://www.tensorflow.org/api_docs\n",
        "model = tf.keras.Sequential([tf.keras.layers.Dense(units=1, input_shape=[1])])\n",
        "\n",
        "# use stochastic gradient descent for optimization and\n",
        "# the mean squared error loss function\n",
        "model.compile(optimizer='sgd', loss='mean_squared_error')\n",
        "\n",
        "# define some training data (xs as inputs and ys as outputs)\n",
        "xs = np.array([-1.0,  0.0, 1.0, 2.0, 3.0, 4.0], dtype=float)\n",
        "ys = np.array([-3.0, -1.0, 1.0, 3.0, 5.0, 7.0], dtype=float)\n",
        "\n",
        "# fit the model to the data (aka train the model)\n",
        "model.fit(xs, ys, epochs=500)"
      ],
      "metadata": {
        "id": "VzRMb7sR9t8u"
      },
      "execution_count": null,
      "outputs": []
    },
    {
      "cell_type": "code",
      "source": [
        "print(model.predict(np.array([10.0])))"
      ],
      "metadata": {
        "colab": {
          "base_uri": "https://localhost:8080/"
        },
        "id": "kf42Gduc-Db2",
        "outputId": "e006ac5a-151a-4cd5-c90d-99ca8c0213e5"
      },
      "execution_count": 9,
      "outputs": [
        {
          "output_type": "stream",
          "name": "stdout",
          "text": [
            "\u001b[1m1/1\u001b[0m \u001b[32m━━━━━━━━━━━━━━━━━━━━\u001b[0m\u001b[37m\u001b[0m \u001b[1m0s\u001b[0m 61ms/step\n",
            "[[18.977974]]\n"
          ]
        }
      ]
    }
  ]
}